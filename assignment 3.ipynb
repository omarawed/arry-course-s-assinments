{
 "cells": [
  {
   "cell_type": "code",
   "execution_count": 1,
   "id": "df89f71f",
   "metadata": {},
   "outputs": [
    {
     "name": "stdout",
     "output_type": "stream",
     "text": [
      "enter your number12\n",
      "36912"
     ]
    }
   ],
   "source": [
    "#while and for loops assignments first practise\n",
    "x=int(input(\"enter your number\"))\n",
    "count=1\n",
    "while count<=x:\n",
    "    if count%3==0:\n",
    "        print(count)\n",
    "    count+=1  "
   ]
  },
  {
   "cell_type": "code",
   "execution_count": 6,
   "id": "6ecfc165",
   "metadata": {},
   "outputs": [
    {
     "name": "stdout",
     "output_type": "stream",
     "text": [
      "34953495\n",
      "number of digits 34953495 is 8\n"
     ]
    }
   ],
   "source": [
    "#practise2 Read an integer and count its number of digits\n",
    "x=int(input())\n",
    "y=x\n",
    "if x==0:\n",
    "    digit=1\n",
    "else:\n",
    "    digit=0\n",
    "    if x<0:\n",
    "        x=-x\n",
    "    while x>0:\n",
    "        digit+=1\n",
    "        x//=10\n",
    "print('number of digits',y,'is',digit)"
   ]
  },
  {
   "cell_type": "code",
   "execution_count": null,
   "id": "89fd1b17",
   "metadata": {},
   "outputs": [],
   "source": [
    "x=int(input(\"enter your number 1,2 or 3\"))\n",
    "while c<=x:\n",
    "    if x==1:\n",
    "        print('sum='summ)\n",
    "    elifx==2:\n",
    "        print(sub)\n",
    "        "
   ]
  },
  {
   "cell_type": "code",
   "execution_count": 9,
   "id": "4617d165",
   "metadata": {},
   "outputs": [
    {
     "name": "stdout",
     "output_type": "stream",
     "text": [
      "3\n",
      "4\n",
      "5\n",
      "6\n",
      "7\n"
     ]
    }
   ],
   "source": [
    "for i in range(3,8,1):\n",
    "    print(i)"
   ]
  },
  {
   "cell_type": "code",
   "execution_count": 25,
   "id": "6a61ba60",
   "metadata": {},
   "outputs": [
    {
     "name": "stdout",
     "output_type": "stream",
     "text": [
      "5\n",
      "Hi\n",
      "HiHiHiHiHi"
     ]
    }
   ],
   "source": [
    "N,S=int(input()),input()\n",
    "count=1\n",
    "while count<=N:\n",
    "    print(S,end='')\n",
    "    count+=1\n",
    "    "
   ]
  },
  {
   "cell_type": "code",
   "execution_count": 27,
   "id": "556c2555",
   "metadata": {},
   "outputs": [
    {
     "name": "stdout",
     "output_type": "stream",
     "text": [
      "5\n",
      "*****\n",
      "****\n",
      "***\n",
      "**\n",
      "*\n"
     ]
    }
   ],
   "source": [
    "x=int(input())\n",
    "row=1\n",
    "while row<=x:\n",
    "    stars=5\n",
    "    while stars>=row:\n",
    "        print('*',end='')\n",
    "        stars-=1\n",
    "    print()\n",
    "    row+=1"
   ]
  },
  {
   "cell_type": "code",
   "execution_count": null,
   "id": "71ef357e",
   "metadata": {},
   "outputs": [],
   "source": []
  }
 ],
 "metadata": {
  "kernelspec": {
   "display_name": "Python 3 (ipykernel)",
   "language": "python",
   "name": "python3"
  },
  "language_info": {
   "codemirror_mode": {
    "name": "ipython",
    "version": 3
   },
   "file_extension": ".py",
   "mimetype": "text/x-python",
   "name": "python",
   "nbconvert_exporter": "python",
   "pygments_lexer": "ipython3",
   "version": "3.9.12"
  }
 },
 "nbformat": 4,
 "nbformat_minor": 5
}
