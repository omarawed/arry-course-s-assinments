{
 "cells": [
  {
   "cell_type": "code",
   "execution_count": 7,
   "id": "6f082454",
   "metadata": {},
   "outputs": [
    {
     "name": "stdout",
     "output_type": "stream",
     "text": [
      "practise makes perfect\n",
      "children must be taught\n",
      " how to think\n",
      " not\n",
      " what to think\n",
      "\"\"\n",
      "2*3*4*5/10= \n"
     ]
    }
   ],
   "source": [
    "#homework guess the run-time output\n",
    "print('practise',\"makes perfect\")\n",
    "print(\"children must be taught\\n how to think\\n not\\n what to think\")\n",
    "print(\"\\\"\\\"\")\n",
    "print('2*3*4*5/10= ')\n",
    "#print(2*3*4*5/10=)======> syntax error"
   ]
  },
  {
   "cell_type": "code",
   "execution_count": 58,
   "id": "487cbde3",
   "metadata": {
    "scrolled": true
   },
   "outputs": [
    {
     "name": "stdout",
     "output_type": "stream",
     "text": [
      "Me\n",
      "Me\n",
      "you will learn\n",
      " a LOT \n"
     ]
    }
   ],
   "source": [
    "#homwork2\n",
    "print(\"Me\")\n",
    "print('Me')\n",
    "#prit('me\")=======> EOL erroe\n",
    "print(\"you will learn\\n a LOT \")\n",
    "    "
   ]
  },
  {
   "cell_type": "code",
   "execution_count": 32,
   "id": "615143a4",
   "metadata": {},
   "outputs": [
    {
     "name": "stdout",
     "output_type": "stream",
     "text": [
      "*\n",
      "* *\n",
      "* * *\n",
      "* * * *\n",
      "* * * * *\n",
      "\n"
     ]
    }
   ],
   "source": [
    "#homework3\n",
    "print(\"*\\n* *\\n* * *\\n* * * *\\n* * * * *\\n\")"
   ]
  },
  {
   "cell_type": "code",
   "execution_count": 49,
   "id": "0097cb86",
   "metadata": {},
   "outputs": [
    {
     "name": "stdout",
     "output_type": "stream",
     "text": [
      "\t  *\n",
      "\t* * *\n",
      "      * * * * *\n",
      "    * * * * * * *\n"
     ]
    }
   ],
   "source": [
    "#homwwork4\n",
    "print(\"\\t  *\\n\\t* * *\\n      * * * * *\\n    * * * * * * *\")"
   ]
  },
  {
   "cell_type": "code",
   "execution_count": 59,
   "id": "ca6e3116",
   "metadata": {},
   "outputs": [
    {
     "name": "stdout",
     "output_type": "stream",
     "text": [
      "wonderful\"day\n"
     ]
    }
   ],
   "source": [
    "#homework6 (correct me)\n",
    "#1-print(Hi)======> print(\"Hi\")\n",
    "#2-print()=======> correct put it will print null\n",
    "#3-print\" I am Mahmoud\")=======>print(\"I am Mahmoud\")\n",
    "#4-print(3*6)========> correct will print 18\n",
    "#5-print\"wonderful\"day)============>print(\"wonderful day\")\n",
    "#6-print(\"wonderful\"day\")========>print(\"wonderful\\\"day\") or print(\"wonderful day\")"
   ]
  },
  {
   "cell_type": "code",
   "execution_count": null,
   "id": "ebd85b90",
   "metadata": {},
   "outputs": [],
   "source": []
  }
 ],
 "metadata": {
  "kernelspec": {
   "display_name": "Python 3 (ipykernel)",
   "language": "python",
   "name": "python3"
  },
  "language_info": {
   "codemirror_mode": {
    "name": "ipython",
    "version": 3
   },
   "file_extension": ".py",
   "mimetype": "text/x-python",
   "name": "python",
   "nbconvert_exporter": "python",
   "pygments_lexer": "ipython3",
   "version": "3.9.12"
  }
 },
 "nbformat": 4,
 "nbformat_minor": 5
}
