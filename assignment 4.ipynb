{
 "cells": [
  {
   "cell_type": "code",
   "execution_count": 29,
   "id": "6814c815",
   "metadata": {},
   "outputs": [
    {
     "name": "stdout",
     "output_type": "stream",
     "text": [
      "9\n"
     ]
    }
   ],
   "source": [
    "#hw2\n",
    "def my_max2(a,b):\n",
    "    if a>b:\n",
    "        return a\n",
    "    return b\n",
    "def my_max3(a,b,c):\n",
    "    if a>b:\n",
    "        return a\n",
    "    else:\n",
    "        return b\n",
    "    if a>c: \n",
    "        return a\n",
    "    else:\n",
    "        return c\n",
    "    if b>c:\n",
    "        return b\n",
    "    else:\n",
    "        return c\n",
    "print(my_max3(5,9,1))    \n",
    "#و هكذا لحد ما نوصل لmy_max6 اختصارا للوقت :)\n"
   ]
  },
  {
   "cell_type": "code",
   "execution_count": 56,
   "id": "6c7c643d",
   "metadata": {},
   "outputs": [
    {
     "name": "stdout",
     "output_type": "stream",
     "text": [
      "enter a number4\n",
      "False\n",
      "True\n"
     ]
    }
   ],
   "source": [
    "#hw3\n",
    "def is_prime():\n",
    "    num=int(input(\"enter a number\"))\n",
    "    if num>1:\n",
    "        for i in range(2,num):\n",
    "            if num%i==0:\n",
    "                print (False)\n",
    "            else:\n",
    "                print (True)\n",
    "           \n",
    "is_prime()        \n",
    "\n"
   ]
  },
  {
   "cell_type": "code",
   "execution_count": 69,
   "id": "364f4b4d",
   "metadata": {},
   "outputs": [
    {
     "name": "stdout",
     "output_type": "stream",
     "text": [
      "enter your number:10\n",
      "0 0\n",
      "1 1\n",
      "2 1\n",
      "3 2\n",
      "4 3\n",
      "5 5\n",
      "6 8\n",
      "7 13\n",
      "8 21\n",
      "9 34\n"
     ]
    }
   ],
   "source": [
    "#hw4\n",
    "def nth_fib(n):\n",
    "    if n==0:\n",
    "        return 0\n",
    "    elif n==1:\n",
    "        return 1\n",
    "    else:\n",
    "        return(nth_fib(n-2)+nth_fib(n-1))\n",
    "n=int(input(\"enter your number:\"))\n",
    "for i in range(0,n):\n",
    "    print(i,nth_fib(i))"
   ]
  },
  {
   "cell_type": "code",
   "execution_count": null,
   "id": "6a1683e4",
   "metadata": {},
   "outputs": [],
   "source": []
  },
  {
   "cell_type": "markdown",
   "id": "a4926cfb",
   "metadata": {},
   "source": [
    "# "
   ]
  }
 ],
 "metadata": {
  "kernelspec": {
   "display_name": "Python 3 (ipykernel)",
   "language": "python",
   "name": "python3"
  },
  "language_info": {
   "codemirror_mode": {
    "name": "ipython",
    "version": 3
   },
   "file_extension": ".py",
   "mimetype": "text/x-python",
   "name": "python",
   "nbconvert_exporter": "python",
   "pygments_lexer": "ipython3",
   "version": "3.9.12"
  }
 },
 "nbformat": 4,
 "nbformat_minor": 5
}
