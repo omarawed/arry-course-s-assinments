{
 "cells": [
  {
   "cell_type": "code",
   "execution_count": 1,
   "id": "6facd760",
   "metadata": {},
   "outputs": [
    {
     "name": "stdout",
     "output_type": "stream",
     "text": [
      "enter your number6\n",
      "enter your number4\n",
      "10\n",
      "24\n",
      "2\n",
      "1.5\n"
     ]
    }
   ],
   "source": [
    "#homework1\n",
    "x=int(input(\"enter your number\"))\n",
    "y=int(input(\"enter your number\"))\n",
    "print(x+y)\n",
    "print(x*y)\n",
    "print(x-y)\n",
    "print(x/y)\n",
    "\n"
   ]
  },
  {
   "cell_type": "code",
   "execution_count": 11,
   "id": "da03a8c1",
   "metadata": {},
   "outputs": [
    {
     "name": "stdout",
     "output_type": "stream",
     "text": [
      "enter his namemostafa\n",
      "enter his ID124\n",
      "enter his grade20\n",
      "enter his namebelal\n",
      "enter his ID455\n",
      "enter his grade31\n",
      "mostafa\n",
      "124\n",
      "20.0\n",
      "belal\n",
      "455\n",
      "31.0\n",
      "25.5\n"
     ]
    }
   ],
   "source": [
    "#homework2\n",
    "firststudentname=input(\"enter his name\")\n",
    "firststudentID=int(input(\"enter his ID\"))\n",
    "firststudentgrade=float(input(\"enter his grade\"))\n",
    "secondstudentname=input(\"enter his name\")\n",
    "secondstudentID=int(input(\"enter his ID\"))\n",
    "secondstudentgrade=float(input(\"enter his grade\"))\n",
    "print(firststudentname)\n",
    "print(firststudentID)\n",
    "print(firststudentgrade)\n",
    "print(secondstudentname)\n",
    "print(secondstudentID)\n",
    "print(secondstudentgrade)\n",
    "average=float(secondstudentgrade+firststudentgrade)/2\n",
    "print(average)"
   ]
  },
  {
   "cell_type": "code",
   "execution_count": 29,
   "id": "f7610e35",
   "metadata": {},
   "outputs": [
    {
     "name": "stdout",
     "output_type": "stream",
     "text": [
      "A'B\"C\n",
      "['A\\'B\"C', 'A\\'B\"C', 'A\\'B\"C', 'A\\'B\"C', 'A\\'B\"C', 'A\\'B\"C', 'A\\'B\"C', 'A\\'B\"C', 'A\\'B\"C', 'A\\'B\"C']\n"
     ]
    }
   ],
   "source": [
    "#homework4\n",
    "x=input().split()\n",
    "print(x*10)"
   ]
  },
  {
   "cell_type": "code",
   "execution_count": null,
   "id": "ec05afdb",
   "metadata": {},
   "outputs": [],
   "source": []
  },
  {
   "cell_type": "code",
   "execution_count": null,
   "id": "a854a160",
   "metadata": {},
   "outputs": [],
   "source": []
  }
 ],
 "metadata": {
  "kernelspec": {
   "display_name": "Python 3 (ipykernel)",
   "language": "python",
   "name": "python3"
  },
  "language_info": {
   "codemirror_mode": {
    "name": "ipython",
    "version": 3
   },
   "file_extension": ".py",
   "mimetype": "text/x-python",
   "name": "python",
   "nbconvert_exporter": "python",
   "pygments_lexer": "ipython3",
   "version": "3.9.12"
  }
 },
 "nbformat": 4,
 "nbformat_minor": 5
}
